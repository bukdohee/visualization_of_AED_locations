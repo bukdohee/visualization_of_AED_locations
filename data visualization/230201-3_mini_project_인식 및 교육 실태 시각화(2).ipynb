{
 "cells": [
  {
   "cell_type": "code",
   "execution_count": 1,
   "id": "b0fb85f0-0cc0-49e1-8339-6a92995ca091",
   "metadata": {},
   "outputs": [],
   "source": [
    "import pandas as pd\n",
    "import numpy as np\n",
    "import matplotlib as mpl\n",
    "import seaborn as sns\n",
    "import matplotlib.pyplot as plt\n",
    "%matplotlib inline"
   ]
  },
  {
   "cell_type": "code",
   "execution_count": 2,
   "id": "1e8b552c-ac69-4594-a6ab-8e7b60923944",
   "metadata": {},
   "outputs": [],
   "source": [
    "sns.set_style('darkgrid')\n",
    "mpl.rcParams['font.size'] = 13\n",
    "mpl.rcParams['figure.figsize'] = (10,5)\n",
    "mpl.rcParams['figure.facecolor'] = '#00000000'"
   ]
  },
  {
   "cell_type": "code",
   "execution_count": 3,
   "id": "3bf73bf0-7ffa-4932-b652-9c56f6127b5a",
   "metadata": {
    "scrolled": true,
    "tags": []
   },
   "outputs": [
    {
     "name": "stdout",
     "output_type": "stream",
     "text": [
      "Courier New\n",
      "Nirmala UI\n",
      "Bodoni MT\n",
      "NanumGothic\n",
      "Cambria\n",
      "Leelawadee UI\n",
      "Gadugi\n",
      "Corbel\n",
      "HYHeadLine-Medium\n",
      "Lucida Bright\n",
      "HYShortSamul-Medium\n",
      "Century Schoolbook\n",
      "Gill Sans MT\n",
      "Wingdings\n",
      "Gill Sans MT\n",
      "Engravers MT\n",
      "Rockwell\n",
      "Goudy Stout\n",
      "Rockwell\n",
      "Microsoft JhengHei\n",
      "Times New Roman\n",
      "HoloLens MDL2 Assets\n",
      "Malgun Gothic\n",
      "Yu Gothic\n",
      "Trebuchet MS\n",
      "Chiller\n",
      "Eras Bold ITC\n",
      "Bookshelf Symbol 7\n",
      "Trebuchet MS\n",
      "Bahnschrift\n",
      "MoeumT R\n",
      "Leelawadee UI\n",
      "Pristina\n",
      "Harrington\n",
      "Times New Roman\n",
      "Dubai\n",
      "Century Gothic\n",
      "Gadugi\n",
      "Segoe UI\n",
      "Trebuchet MS\n",
      "Segoe UI\n",
      "Book Antiqua\n",
      "Lucida Console\n",
      "Vladimir Script\n",
      "STFangsong\n",
      "Berlin Sans FB\n",
      "Lucida Sans\n",
      "Castellar\n",
      "Arial\n",
      "Comic Sans MS\n",
      "Bell MT\n",
      "Showcard Gothic\n",
      "Bookman Old Style\n",
      "Gill Sans MT\n",
      "Script MT Bold\n",
      "STFangsong\n",
      "Bodoni MT\n",
      "Gadugi\n",
      "Nirmala UI\n",
      "Haettenschweiler\n",
      "Forte\n",
      "Brush Script MT\n",
      "MS Reference Sans Serif\n",
      "Lucida Fax\n",
      "OCR A Extended\n",
      "Ravie\n",
      "Elephant\n",
      "Monotype Corsiva\n",
      "LiSu\n",
      "Agency FB\n",
      "Constantia\n",
      "Sitka Small\n",
      "Bodoni MT\n",
      "Sitka Small\n",
      "Dubai\n",
      "Arial\n",
      "Microsoft PhagsPa\n",
      "Book Antiqua\n",
      "Century Gothic\n",
      "Corbel\n",
      "Impact\n",
      "Bell MT\n",
      "Ravie\n",
      "Lucida Calligraphy\n",
      "Niagara Engraved\n",
      "Tw Cen MT Condensed\n",
      "Corbel\n",
      "Comic Sans MS\n",
      "HYGothic-Medium\n",
      "Arial\n",
      "Tw Cen MT Condensed\n",
      "Tw Cen MT Condensed\n",
      "Perpetua Titling MT\n",
      "Tempus Sans ITC\n",
      "Segoe UI\n",
      "STCaiyun\n",
      "Eras Light ITC\n",
      "Tw Cen MT\n",
      "Courier New\n",
      "Palatino Linotype\n",
      "Arial\n",
      "Garamond\n",
      "Gill Sans MT\n",
      "Lucida Sans Typewriter\n",
      "Goudy Old Style\n",
      "Georgia\n",
      "Century Gothic\n",
      "Onyx\n",
      "Lucida Sans Unicode\n",
      "Segoe UI Symbol\n",
      "Agency FB\n",
      "Franklin Gothic Book\n",
      "Kristen ITC\n",
      "Segoe MDL2 Assets\n",
      "Lucida Sans\n",
      "NanumGothic\n",
      "Cambria\n",
      "Bodoni MT\n",
      "Bookman Old Style\n",
      "Microsoft JhengHei\n",
      "Gill Sans MT Ext Condensed Bold\n",
      "Microsoft PhagsPa\n",
      "Verdana\n",
      "Segoe Script\n",
      "Californian FB\n",
      "NanumBarunpen\n",
      "Century Schoolbook\n",
      "Segoe UI\n",
      "Yu Gothic\n",
      "Maiandra GD\n",
      "Corbel\n",
      "Segoe UI\n",
      "Arial\n",
      "Forte\n",
      "Bell MT\n",
      "Microsoft Tai Le\n",
      "Corbel\n",
      "Arial\n",
      "Microsoft JhengHei\n",
      "Calibri\n",
      "Century\n",
      "Headline R\n",
      "Comic Sans MS\n",
      "Segoe Print\n",
      "Tw Cen MT Condensed Extra Bold\n",
      "STXihei\n",
      "Perpetua\n",
      "Courier New\n",
      "Lucida Fax\n",
      "Calibri\n",
      "High Tower Text\n",
      "Calisto MT\n",
      "Constantia\n",
      "Modern No. 20\n",
      "Yu Gothic\n",
      "Gill Sans Ultra Bold Condensed\n",
      "Century Schoolbook\n",
      "Mistral\n",
      "Malgun Gothic\n",
      "Calisto MT\n",
      "Palatino Linotype\n",
      "Wide Latin\n",
      "Lucida Sans Typewriter\n",
      "Parchment\n",
      "Bodoni MT\n",
      "Stencil\n",
      "MT Extra\n",
      "Bodoni MT\n",
      "Rockwell\n",
      "Segoe UI\n",
      "STZhongsong\n",
      "Dubai\n",
      "Edwardian Script ITC\n",
      "Nanum Pen Script\n",
      "Gill Sans MT Condensed\n",
      "Calisto MT\n",
      "MV Boli\n",
      "Lucida Calligraphy\n",
      "Segoe UI\n",
      "Sylfaen\n",
      "Microsoft Yi Baiti\n",
      "Franklin Gothic Demi Cond\n",
      "Goudy Old Style\n",
      "Microsoft New Tai Lue\n",
      "Arial\n",
      "Perpetua\n",
      "Cambria\n",
      "Gill Sans MT\n",
      "Verdana\n",
      "Vivaldi\n",
      "Rage Italic\n",
      "Constantia\n",
      "Tw Cen MT\n",
      "Franklin Gothic Demi\n",
      "Franklin Gothic Heavy\n",
      "Onyx\n",
      "Century Gothic\n",
      "Nirmala UI\n",
      "Sitka Small\n",
      "New Gulim\n",
      "HYGothic-Medium\n",
      "HYPMokGak-Bold\n",
      "STCaiyun\n",
      "Palatino Linotype\n",
      "Georgia\n",
      "Candara\n",
      "Tw Cen MT Condensed\n",
      "Nirmala UI\n",
      "Modern No. 20\n",
      "Comic Sans MS\n",
      "Franklin Gothic Book\n",
      "Goudy Old Style\n",
      "Courier New\n",
      "Dubai\n",
      "Bodoni MT\n",
      "Wingdings\n",
      "Rockwell\n",
      "Javanese Text\n",
      "Rockwell\n",
      "Microsoft JhengHei\n",
      "HYPost-Light\n",
      "Gigi\n",
      "Segoe UI\n",
      "Viner Hand ITC\n",
      "Segoe UI Symbol\n",
      "Eras Demi ITC\n",
      "Verdana\n",
      "MingLiU-ExtB\n",
      "SimSun\n",
      "Myanmar Text\n",
      "Arial\n",
      "Copperplate Gothic Bold\n",
      "Segoe UI\n",
      "STXihei\n",
      "Lucida Bright\n",
      "MV Boli\n",
      "Franklin Gothic Heavy\n",
      "Yu Gothic\n",
      "Cooper Black\n",
      "Felix Titling\n",
      "MS Reference Sans Serif\n",
      "FZYaoTi\n",
      "Segoe UI Emoji\n",
      "Broadway\n",
      "Calibri\n",
      "Cambria\n",
      "SimSun\n",
      "Calisto MT\n",
      "Calibri\n",
      "Times New Roman\n",
      "Times New Roman\n",
      "Brush Script MT\n",
      "Lucida Sans\n",
      "Malgun Gothic\n",
      "Pyunji R\n",
      "Arial\n",
      "Candara\n",
      "Magneto\n",
      "Segoe UI\n",
      "Corbel\n",
      "HYPost-Medium\n",
      "Mistral\n",
      "Bookman Old Style\n",
      "Calisto MT\n",
      "Lucida Fax\n",
      "French Script MT\n",
      "Bookman Old Style\n",
      "Gulim\n",
      "Segoe UI\n",
      "Arial\n",
      "Times New Roman\n",
      "Century Gothic\n",
      "Bookman Old Style\n",
      "Copperplate Gothic Bold\n",
      "Segoe UI\n",
      "Microsoft YaHei\n",
      "Segoe MDL2 Assets\n",
      "Century\n",
      "LiSu\n",
      "FZShuTi\n",
      "Bookman Old Style\n",
      "Sitka Small\n",
      "Headline R\n",
      "Monotype Corsiva\n",
      "Bodoni MT\n",
      "Corbel\n",
      "Tempus Sans ITC\n",
      "Tahoma\n",
      "Segoe Script\n",
      "Perpetua\n",
      "Californian FB\n",
      "Gabriola\n",
      "Century Schoolbook\n",
      "Verdana\n",
      "Segoe UI\n",
      "STZhongsong\n",
      "Eras Bold ITC\n",
      "Goudy Old Style\n",
      "Rockwell Condensed\n",
      "Calisto MT\n",
      "Harrington\n",
      "Lucida Bright\n",
      "Microsoft Yi Baiti\n",
      "Bodoni MT\n",
      "Vladimir Script\n",
      "Segoe UI\n",
      "Cambria\n",
      "Arial\n",
      "Bookman Old Style\n",
      "STXingkai\n",
      "Book Antiqua\n",
      "Century Schoolbook\n",
      "Lucida Bright\n",
      "Papyrus\n",
      "Century Schoolbook\n",
      "Century Gothic\n",
      "Jokerman\n",
      "Niagara Engraved\n",
      "Centaur\n",
      "Stencil\n",
      "Segoe Print\n",
      "Pyunji R\n",
      "Courier New\n",
      "Bookman Old Style\n",
      "Blackadder ITC\n",
      "Pristina\n",
      "Palatino Linotype\n",
      "Bodoni MT\n",
      "Berlin Sans FB Demi\n",
      "Perpetua Titling MT\n",
      "Microsoft New Tai Lue\n",
      "Franklin Gothic Medium Cond\n",
      "Times New Roman\n",
      "Wingdings 2\n",
      "Courier New\n",
      "Candara\n",
      "MS Outlook\n",
      "Lucida Fax\n",
      "Felix Titling\n",
      "Leelawadee UI\n",
      "Perpetua Titling MT\n",
      "Segoe UI\n",
      "Goudy Old Style\n",
      "Ebrima\n",
      "MT Extra\n",
      "Castellar\n",
      "Microsoft Tai Le\n",
      "NanumGothic\n",
      "Calibri\n",
      "Yu Gothic\n",
      "Trebuchet MS\n",
      "Corbel\n",
      "Century Gothic\n",
      "Segoe UI\n",
      "Curlz MT\n",
      "Book Antiqua\n",
      "Matura MT Script Capitals\n",
      "Arial Rounded MT Bold\n",
      "Cambria\n",
      "Gloucester MT Extra Condensed\n",
      "Microsoft Sans Serif\n",
      "Bodoni MT\n",
      "Franklin Gothic Demi\n",
      "Gill Sans MT Ext Condensed Bold\n",
      "Corbel\n",
      "NanumGothicOTF Eco\n",
      "Ebrima\n",
      "Palatino Linotype\n",
      "Engravers MT\n",
      "Lucida Bright\n",
      "Parchment\n",
      "Algerian\n",
      "SimSun-ExtB\n",
      "Lucida Sans Typewriter\n",
      "Microsoft New Tai Lue\n",
      "Lucida Fax\n",
      "Corbel\n",
      "Candara\n",
      "Freestyle Script\n",
      "Bauhaus 93\n",
      "NanumGothic\n",
      "MS Outlook\n",
      "YouYuan\n",
      "Century Schoolbook\n",
      "Yet R\n",
      "Lucida Fax\n",
      "Webdings\n",
      "Ebrima\n",
      "High Tower Text\n",
      "Century Gothic\n",
      "Candara\n",
      "Microsoft New Tai Lue\n",
      "Lucida Sans Typewriter\n",
      "Viner Hand ITC\n",
      "Verdana\n",
      "Lucida Console\n",
      "Microsoft YaHei\n",
      "Myanmar Text\n",
      "Gill Sans MT\n",
      "Gulim\n",
      "Kunstler Script\n",
      "Gill Sans MT Condensed\n",
      "Ink Free\n",
      "Chiller\n",
      "Ink Free\n",
      "Candara\n",
      "Georgia\n",
      "Britannic Bold\n",
      "Constantia\n",
      "Bodoni MT\n",
      "Microsoft Sans Serif\n",
      "Dubai\n",
      "Perpetua\n",
      "Calisto MT\n",
      "Trebuchet MS\n",
      "Arial\n",
      "Gigi\n",
      "Courier New\n",
      "Bradley Hand ITC\n",
      "STLiti\n",
      "Trebuchet MS\n",
      "HYMyeongJo-Extra\n",
      "Georgia\n",
      "STKaiti\n",
      "Gill Sans MT\n",
      "Franklin Gothic Heavy\n",
      "Candara\n",
      "Constantia\n",
      "Garamond\n",
      "Microsoft Himalaya\n",
      "Magic R\n",
      "Calibri\n",
      "New Gulim\n",
      "Microsoft YaHei\n",
      "Tw Cen MT\n",
      "Rockwell Condensed\n",
      "Franklin Gothic Demi\n",
      "Franklin Gothic Book\n",
      "Georgia\n",
      "Wide Latin\n",
      "YouYuan\n",
      "Ami R\n",
      "Niagara Solid\n",
      "Bodoni MT\n",
      "Maiandra GD\n",
      "Bodoni MT\n",
      "Segoe Print\n",
      "Curlz MT\n",
      "Georgia\n",
      "Microsoft JhengHei\n",
      "Segoe Script\n",
      "HYGothic-Extra\n",
      "Lucida Sans\n",
      "Papyrus\n",
      "High Tower Text\n",
      "Lucida Bright\n",
      "Lucida Handwriting\n",
      "Old English Text MT\n",
      "Lucida Sans\n",
      "Yu Gothic\n",
      "FZYaoTi\n",
      "MS Gothic\n",
      "STSong\n",
      "Cooper Black\n",
      "Microsoft Tai Le\n",
      "Microsoft YaHei\n",
      "OCR A Extended\n",
      "Segoe UI\n",
      "High Tower Text\n",
      "Rockwell\n",
      "Berlin Sans FB\n",
      "Consolas\n",
      "Kristen ITC\n",
      "Ami R\n",
      "Bodoni MT\n",
      "Palace Script MT\n",
      "Bodoni MT\n",
      "Georgia\n",
      "Vivaldi\n",
      "Colonna MT\n",
      "Arial\n",
      "STHupo\n",
      "Corbel\n",
      "Snap ITC\n",
      "Georgia\n",
      "HYGothic-Extra\n",
      "Perpetua\n",
      "French Script MT\n",
      "Imprint MT Shadow\n",
      "Gill Sans Ultra Bold\n",
      "Perpetua\n",
      "Segoe Print\n",
      "Eras Demi ITC\n",
      "HYMyeongJo-Extra\n",
      "Rockwell Extra Bold\n",
      "HYGungSo-Bold\n",
      "Copperplate Gothic Light\n",
      "Yet R\n",
      "Lucida Sans\n",
      "Wingdings 2\n",
      "Courier New\n",
      "Palatino Linotype\n",
      "STKaiti\n",
      "Bodoni MT\n",
      "Microsoft Tai Le\n",
      "Elephant\n",
      "Lucida Handwriting\n",
      "Matura MT Script Capitals\n",
      "Bodoni MT\n",
      "Rockwell\n",
      "FZShuTi\n",
      "Calibri\n",
      "Blackadder ITC\n",
      "Tahoma\n",
      "Symbol\n",
      "Niagara Solid\n",
      "Palace Script MT\n",
      "Showcard Gothic\n",
      "STHupo\n",
      "Tahoma\n",
      "Calibri\n",
      "Consolas\n",
      "Consolas\n",
      "Lucida Sans\n",
      "Bradley Hand ITC\n",
      "Franklin Gothic Demi Cond\n",
      "Yu Gothic\n",
      "Segoe UI\n",
      "HoloLens MDL2 Assets\n",
      "MingLiU-ExtB\n",
      "Webdings\n",
      "Ebrima\n",
      "Symbol\n",
      "Lucida Fax\n",
      "Footlight MT Light\n",
      "Californian FB\n",
      "Californian FB\n",
      "Franklin Gothic Demi\n",
      "Harlow Solid Italic\n",
      "STXinwei\n",
      "Microsoft PhagsPa\n",
      "Algerian\n",
      "Britannic Bold\n",
      "Batang\n",
      "HYPost-Light\n",
      "Garamond\n",
      "Tw Cen MT\n",
      "Perpetua\n",
      "SimSun-ExtB\n",
      "Calibri\n",
      "Perpetua Titling MT\n",
      "Garamond\n",
      "NanumGothic\n",
      "Elephant\n",
      "Lucida Sans Typewriter\n",
      "Candara\n",
      "Comic Sans MS\n",
      "Arial\n",
      "Lucida Bright\n",
      "Rockwell\n",
      "Script MT Bold\n",
      "Times New Roman\n",
      "Verdana\n",
      "Cambria\n",
      "Microsoft Himalaya\n",
      "Microsoft YaHei\n",
      "Comic Sans MS\n",
      "Segoe UI\n",
      "Lucida Sans Unicode\n",
      "Calibri\n",
      "Century Schoolbook\n",
      "Book Antiqua\n",
      "Bookshelf Symbol 7\n",
      "Segoe UI\n",
      "Candara\n",
      "Agency FB\n",
      "Magneto\n",
      "Jokerman\n",
      "Sylfaen\n",
      "NanumGothic\n",
      "Segoe UI\n",
      "Franklin Gothic Book\n",
      "Elephant\n",
      "Consolas\n",
      "Palatino Linotype\n",
      "Cambria\n",
      "STLiti\n",
      "Rockwell Condensed\n",
      "Segoe UI\n",
      "Gill Sans Ultra Bold\n",
      "Garamond\n",
      "Bodoni MT\n",
      "Leelawadee UI\n",
      "STXingkai\n",
      "Mongolian Baiti\n",
      "MS Reference Specialty\n",
      "Tahoma\n",
      "Rockwell Extra Bold\n",
      "Poor Richard\n",
      "Edwardian Script ITC\n",
      "Wingdings 3\n",
      "Nirmala UI\n",
      "Batang\n",
      "Arial\n",
      "NanumGothic\n",
      "Tw Cen MT\n",
      "Lucida Sans Typewriter\n",
      "Imprint MT Shadow\n",
      "Bernard MT Condensed\n",
      "Book Antiqua\n",
      "Comic Sans MS\n",
      "HYHeadLine-Medium\n",
      "Mongolian Baiti\n",
      "Magic R\n",
      "Old English Text MT\n",
      "Trebuchet MS\n",
      "Segoe UI Historic\n",
      "Eras Medium ITC\n",
      "Microsoft PhagsPa\n",
      "Consolas\n",
      "Bodoni MT\n",
      "Constantia\n",
      "Gloucester MT Extra Condensed\n",
      "Tw Cen MT\n",
      "Californian FB\n",
      "Centaur\n",
      "Franklin Gothic Medium\n",
      "Kunstler Script\n",
      "Poor Richard\n",
      "MoeumT R\n",
      "Bell MT\n",
      "Franklin Gothic Medium Cond\n",
      "Corbel\n",
      "Arial\n",
      "Informal Roman\n",
      "Myanmar Text\n",
      "Franklin Gothic Heavy\n",
      "Malgun Gothic\n",
      "Bell MT\n",
      "Bell MT\n",
      "Californian FB\n",
      "Tw Cen MT Condensed Extra Bold\n",
      "Sitka Small\n",
      "Bernard MT Condensed\n",
      "Consolas\n",
      "Lucida Bright\n",
      "Sitka Small\n",
      "Bodoni MT\n",
      "Impact\n",
      "Gill Sans Ultra Bold Condensed\n",
      "Snap ITC\n",
      "MS Gothic\n",
      "Perpetua\n",
      "Lucida Sans Typewriter\n",
      "Myanmar Text\n",
      "Broadway\n",
      "Arial Rounded MT Bold\n",
      "Leelawadee UI\n",
      "Gulim\n",
      "Bahnschrift\n",
      "Segoe UI\n",
      "Informal Roman\n",
      "Baskerville Old Face\n",
      "Playbill\n",
      "Dubai\n",
      "Segoe UI Historic\n",
      "Lucida Sans Typewriter\n",
      "Candara\n",
      "Palatino Linotype\n",
      "STXinwei\n",
      "Nirmala UI\n",
      "Consolas\n",
      "Tw Cen MT\n",
      "Eras Medium ITC\n",
      "Leelawadee UI\n",
      "Colonna MT\n",
      "Verdana\n",
      "Berlin Sans FB\n",
      "Lucida Fax\n",
      "Segoe UI Emoji\n",
      "Footlight MT Light\n",
      "Franklin Gothic Medium\n",
      "Goudy Stout\n",
      "Franklin Gothic Medium\n",
      "HYSinMyeongJo-Medium\n",
      "Book Antiqua\n",
      "Microsoft JhengHei\n",
      "Dubai\n",
      "Yu Gothic\n",
      "Rage Italic\n",
      "Calibri\n",
      "Marlett\n",
      "Candara\n",
      "Franklin Gothic Medium\n",
      "Berlin Sans FB\n",
      "Trebuchet MS\n",
      "Agency FB\n",
      "HYGraphic-Medium\n",
      "Harlow Solid Italic\n",
      "Lucida Sans\n",
      "Garamond\n",
      "Consolas\n",
      "Candara\n",
      "Goudy Old Style\n",
      "Malgun Gothic\n",
      "HYShortSamul-Medium\n",
      "HYPost-Medium\n",
      "Berlin Sans FB Demi\n",
      "Verdana\n",
      "Javanese Text\n",
      "Comic Sans MS\n",
      "Tw Cen MT\n",
      "Sitka Small\n",
      "HYSinMyeongJo-Medium\n",
      "Sitka Small\n",
      "Microsoft YaHei\n",
      "MS Reference Specialty\n",
      "Freestyle Script\n",
      "Baskerville Old Face\n",
      "HYGraphic-Medium\n",
      "Constantia\n",
      "Arial\n",
      "Copperplate Gothic Light\n",
      "Eras Light ITC\n",
      "STSong\n",
      "Times New Roman\n",
      "Segoe UI\n",
      "Juice ITC\n",
      "Gabriola\n",
      "Malgun Gothic\n",
      "Wingdings 3\n",
      "Arial\n",
      "Segoe Script\n",
      "Haettenschweiler\n",
      "Dubai\n",
      "Bodoni MT\n",
      "Juice ITC\n",
      "Calibri\n",
      "Rockwell Condensed\n",
      "Gadugi\n",
      "HYGungSo-Bold\n",
      "Gill Sans MT\n",
      "Constantia\n",
      "Playbill\n",
      "Book Antiqua\n",
      "Calisto MT\n",
      "Bauhaus 93\n",
      "HYPMokGak-Bold\n",
      "['NanumGothic']\n"
     ]
    }
   ],
   "source": [
    "import matplotlib.font_manager as font_manager\n",
    "import matplotlib as mpl\n",
    "# Add every font at the specified location\n",
    "font_dir = ['C:/python/fonts']\n",
    "for font in font_manager.findSystemFonts(fontpaths=None):\n",
    "    print(mpl.font_manager.FontProperties(fname=font).get_name()) \n",
    "    font_manager.fontManager.addfont(font)\n",
    "# Set font family globally\n",
    "mpl.rcParams['font.family'] = 'NanumGothic'\n",
    "print(mpl.rcParams['font.family'])"
   ]
  },
  {
   "cell_type": "code",
   "execution_count": 4,
   "id": "95a16bfe-d0aa-4ace-858f-47412575a978",
   "metadata": {},
   "outputs": [],
   "source": [
    "mpl.rcParams['axes.unicode_minus'] = False"
   ]
  },
  {
   "cell_type": "markdown",
   "id": "f0257f11-5e33-4e80-a342-d9b01454b7e9",
   "metadata": {},
   "source": [
    "> ## 출처 :  한국소비자원안전감시국 생활안전팀 - 자동심장충격기안전·교육 실태조사 (2017.12)"
   ]
  },
  {
   "cell_type": "markdown",
   "id": "7c6573b2-37ad-4b2a-962e-51b317b9bc8b",
   "metadata": {},
   "source": [
    "# AED 설치 인식도(거주자)"
   ]
  },
  {
   "cell_type": "code",
   "execution_count": 5,
   "id": "e9a2e3df-5f9f-44ed-94b1-bbf8cf7be9a1",
   "metadata": {},
   "outputs": [],
   "source": [
    "data = {\n",
    "    \"설치여부 모름\":[50.1],\n",
    "    \"설치 위치 알고 있음\":[20.6],\n",
    "    \"설치는 되어 있으나 설치 위치는 모름\":[16.7],\n",
    "    \"설치되어 있지 않음\":[12.6],\n",
    "}\n",
    "columns = [\"설치여부 모름\",\"설치 위치 알고 있음\",\"설치는 되어 있으나 설치 위치는 모름\",\"설치되어 있지 않음\"]\n",
    "index = [\"응답수\"]\n",
    "\n",
    "aed_install = pd.DataFrame(data, index = index, columns = columns)"
   ]
  },
  {
   "cell_type": "code",
   "execution_count": 6,
   "id": "404b7fdd-dc17-48e5-90fa-6aac557dbc9e",
   "metadata": {},
   "outputs": [
    {
     "data": {
      "text/html": [
       "<div>\n",
       "<style scoped>\n",
       "    .dataframe tbody tr th:only-of-type {\n",
       "        vertical-align: middle;\n",
       "    }\n",
       "\n",
       "    .dataframe tbody tr th {\n",
       "        vertical-align: top;\n",
       "    }\n",
       "\n",
       "    .dataframe thead th {\n",
       "        text-align: right;\n",
       "    }\n",
       "</style>\n",
       "<table border=\"1\" class=\"dataframe\">\n",
       "  <thead>\n",
       "    <tr style=\"text-align: right;\">\n",
       "      <th></th>\n",
       "      <th>설치여부 모름</th>\n",
       "      <th>설치 위치 알고 있음</th>\n",
       "      <th>설치는 되어 있으나 설치 위치는 모름</th>\n",
       "      <th>설치되어 있지 않음</th>\n",
       "    </tr>\n",
       "  </thead>\n",
       "  <tbody>\n",
       "    <tr>\n",
       "      <th>응답수</th>\n",
       "      <td>50.1</td>\n",
       "      <td>20.6</td>\n",
       "      <td>16.7</td>\n",
       "      <td>12.6</td>\n",
       "    </tr>\n",
       "  </tbody>\n",
       "</table>\n",
       "</div>"
      ],
      "text/plain": [
       "     설치여부 모름  설치 위치 알고 있음  설치는 되어 있으나 설치 위치는 모름  설치되어 있지 않음\n",
       "응답수     50.1         20.6                  16.7        12.6"
      ]
     },
     "execution_count": 6,
     "metadata": {},
     "output_type": "execute_result"
    }
   ],
   "source": [
    "aed_install"
   ]
  },
  {
   "cell_type": "code",
   "execution_count": 7,
   "id": "0c3e8691-d1e9-4116-a068-069d0df0cac8",
   "metadata": {},
   "outputs": [
    {
     "data": {
      "text/plain": [
       "array([50.1, 20.6, 16.7, 12.6])"
      ]
     },
     "execution_count": 7,
     "metadata": {},
     "output_type": "execute_result"
    }
   ],
   "source": [
    "install_p = aed_install.values.flatten()\n",
    "install_p"
   ]
  },
  {
   "cell_type": "code",
   "execution_count": 8,
   "id": "42b71c67-04ee-4bb4-81a1-afcd3e7024a5",
   "metadata": {},
   "outputs": [
    {
     "data": {
      "text/plain": [
       "Index(['설치여부 모름', '설치 위치 알고 있음', '설치는 되어 있으나 설치 위치는 모름', '설치되어 있지 않음'], dtype='object')"
      ]
     },
     "execution_count": 8,
     "metadata": {},
     "output_type": "execute_result"
    }
   ],
   "source": [
    "aed_install.columns"
   ]
  },
  {
   "cell_type": "code",
   "execution_count": 31,
   "id": "0ebcf05a-d9ed-4703-ac1a-29f69b383aa4",
   "metadata": {},
   "outputs": [
    {
     "data": {
      "image/png": "[encoded data removed]",
      "text/plain": [
       "<Figure size 1000x500 with 1 Axes>"
      ]
     },
     "metadata": {},
     "output_type": "display_data"
    }
   ],
   "source": [
    "labels = aed_install.columns\n",
    "sizes = install_p\n",
    "colors = ['yellowgreen','gold','lightskyblue','lightcoral']\n",
    "explode = (0,0.1,0,0)\n",
    "plt.title('AED 설치 인식도(거주자 대상)')\n",
    "plt.pie(sizes, explode = explode, labels = labels, colors=colors,\n",
    "        autopct = '%1.1f%%' , shadow = True, startangle = 220)\n",
    "plt.axis('equal') # 원의 형태를 유지\n",
    "plt.show()"
   ]
  },
  {
   "cell_type": "markdown",
   "id": "f9be6112-16e2-4dbe-b57b-9ad4e125a0c5",
   "metadata": {},
   "source": [
    "# AED 사용 의사"
   ]
  },
  {
   "cell_type": "code",
   "execution_count": 10,
   "id": "62bb73d6-d434-4b5a-866f-a01e5fcf1916",
   "metadata": {},
   "outputs": [
    {
     "data": {
      "text/html": [
       "<div>\n",
       "<style scoped>\n",
       "    .dataframe tbody tr th:only-of-type {\n",
       "        vertical-align: middle;\n",
       "    }\n",
       "\n",
       "    .dataframe tbody tr th {\n",
       "        vertical-align: top;\n",
       "    }\n",
       "\n",
       "    .dataframe thead th {\n",
       "        text-align: right;\n",
       "    }\n",
       "</style>\n",
       "<table border=\"1\" class=\"dataframe\">\n",
       "  <thead>\n",
       "    <tr style=\"text-align: right;\">\n",
       "      <th></th>\n",
       "      <th>사용의사 있음</th>\n",
       "      <th>사용의사 없음</th>\n",
       "    </tr>\n",
       "  </thead>\n",
       "  <tbody>\n",
       "    <tr>\n",
       "      <th>응답수</th>\n",
       "      <td>80.0</td>\n",
       "      <td>20.0</td>\n",
       "    </tr>\n",
       "  </tbody>\n",
       "</table>\n",
       "</div>"
      ],
      "text/plain": [
       "     사용의사 있음  사용의사 없음\n",
       "응답수     80.0     20.0"
      ]
     },
     "execution_count": 10,
     "metadata": {},
     "output_type": "execute_result"
    }
   ],
   "source": [
    "data = {\n",
    "    \"사용의사 있음\": 80.0,\n",
    "    \"사용의사 없음\": 20.0  \n",
    "}\n",
    "columns = [\"사용의사 있음\", \"사용의사 없음\"]\n",
    "index = [\"응답수\"]\n",
    "\n",
    "aed_used = pd.DataFrame(data, index = index, columns = columns)\n",
    "aed_used"
   ]
  },
  {
   "cell_type": "code",
   "execution_count": 11,
   "id": "e03ff035-4c63-4e64-80c7-ed7ebe8ea220",
   "metadata": {},
   "outputs": [
    {
     "data": {
      "text/plain": [
       "array([80., 20.])"
      ]
     },
     "execution_count": 11,
     "metadata": {},
     "output_type": "execute_result"
    }
   ],
   "source": [
    "used_na = aed_used.values.flatten()\n",
    "used_na"
   ]
  },
  {
   "cell_type": "code",
   "execution_count": 12,
   "id": "79addd75-7df9-414d-a5e2-e9bdd7f4724d",
   "metadata": {},
   "outputs": [
    {
     "data": {
      "text/plain": [
       "Index(['사용의사 있음', '사용의사 없음'], dtype='object')"
      ]
     },
     "execution_count": 12,
     "metadata": {},
     "output_type": "execute_result"
    }
   ],
   "source": [
    "aed_used.columns"
   ]
  },
  {
   "cell_type": "code",
   "execution_count": 13,
   "id": "6b9138a9-4d75-4d0b-b623-f89b8b0982c0",
   "metadata": {},
   "outputs": [
    {
     "data": {
      "image/png": "[encoded data removed]",
      "text/plain": [
       "<Figure size 1000x500 with 1 Axes>"
      ]
     },
     "metadata": {},
     "output_type": "display_data"
    }
   ],
   "source": [
    "labels = aed_used.columns\n",
    "sizes = used_na\n",
    "colors = ['lightskyblue','lightcoral']\n",
    "explode = (0,0.1)\n",
    "plt.title('AED 사용의사')\n",
    "plt.pie(sizes, explode = explode, labels = labels, colors=colors,\n",
    "        autopct = '%1.1f%%' , shadow = True, startangle = 90)\n",
    "plt.axis('equal') # 원의 형태를 유지\n",
    "plt.show()"
   ]
  },
  {
   "cell_type": "markdown",
   "id": "0ef571f3-f551-434a-b049-2e3561b06456",
   "metadata": {},
   "source": [
    "# AED 미사용 이유(복수응답)"
   ]
  },
  {
   "cell_type": "code",
   "execution_count": 14,
   "id": "f71384e3-afbc-493a-85d3-9af581448291",
   "metadata": {},
   "outputs": [
    {
     "data": {
      "text/html": [
       "<div>\n",
       "<style scoped>\n",
       "    .dataframe tbody tr th:only-of-type {\n",
       "        vertical-align: middle;\n",
       "    }\n",
       "\n",
       "    .dataframe tbody tr th {\n",
       "        vertical-align: top;\n",
       "    }\n",
       "\n",
       "    .dataframe thead th {\n",
       "        text-align: right;\n",
       "    }\n",
       "</style>\n",
       "<table border=\"1\" class=\"dataframe\">\n",
       "  <thead>\n",
       "    <tr style=\"text-align: right;\">\n",
       "      <th></th>\n",
       "      <th>사용법을 몰라서</th>\n",
       "      <th>만약의 경우 환자의 상태를 악화시킬까봐</th>\n",
       "      <th>자신감이 없어서</th>\n",
       "      <th>심정지 여부를판단할 수 없어서</th>\n",
       "      <th>소송 등 법적 분쟁이 우려돼서</th>\n",
       "      <th>기기 오작동이 우려돼서</th>\n",
       "    </tr>\n",
       "  </thead>\n",
       "  <tbody>\n",
       "    <tr>\n",
       "      <th>응답수</th>\n",
       "      <td>61.0</td>\n",
       "      <td>45.0</td>\n",
       "      <td>43.5</td>\n",
       "      <td>27.0</td>\n",
       "      <td>22.5</td>\n",
       "      <td>14.0</td>\n",
       "    </tr>\n",
       "  </tbody>\n",
       "</table>\n",
       "</div>"
      ],
      "text/plain": [
       "     사용법을 몰라서  만약의 경우 환자의 상태를 악화시킬까봐  자신감이 없어서  심정지 여부를판단할 수 없어서  \\\n",
       "응답수      61.0                   45.0      43.5              27.0   \n",
       "\n",
       "     소송 등 법적 분쟁이 우려돼서  기기 오작동이 우려돼서  \n",
       "응답수              22.5          14.0  "
      ]
     },
     "execution_count": 14,
     "metadata": {},
     "output_type": "execute_result"
    }
   ],
   "source": [
    "data = {\n",
    "    \"사용법을 몰라서\":[61.0],\n",
    "    \"만약의 경우 환자의 상태를 악화시킬까봐\":[45.0],\n",
    "    \"자신감이 없어서\":[43.5],\n",
    "    \"심정지 여부를판단할 수 없어서\":[27.0],\n",
    "    \"소송 등 법적 분쟁이 우려돼서\":[22.5],\n",
    "    \"기기 오작동이 우려돼서\":[14.0]\n",
    "}\n",
    "columns = [\"사용법을 몰라서\",\"만약의 경우 환자의 상태를 악화시킬까봐\",\"자신감이 없어서\",\n",
    "           \"심정지 여부를판단할 수 없어서\",\"소송 등 법적 분쟁이 우려돼서\",\"기기 오작동이 우려돼서\"]\n",
    "index = [\"응답수\"]\n",
    "\n",
    "aed_nu = pd.DataFrame(data, index = index, columns = columns)\n",
    "aed_nu"
   ]
  },
  {
   "cell_type": "code",
   "execution_count": 15,
   "id": "13f9f87c-ac70-4f41-af83-bc7691ec6b9a",
   "metadata": {},
   "outputs": [
    {
     "data": {
      "text/plain": [
       "array([61. , 45. , 43.5, 27. , 22.5, 14. ])"
      ]
     },
     "execution_count": 15,
     "metadata": {},
     "output_type": "execute_result"
    }
   ],
   "source": [
    "nu_servey = aed_nu.values.flatten()\n",
    "nu_servey"
   ]
  },
  {
   "cell_type": "code",
   "execution_count": 16,
   "id": "5b1e186b-c7fc-408a-94de-4898e556ec29",
   "metadata": {},
   "outputs": [
    {
     "data": {
      "text/plain": [
       "Index(['사용법을 몰라서', '만약의 경우 환자의 상태를 악화시킬까봐', '자신감이 없어서', '심정지 여부를판단할 수 없어서',\n",
       "       '소송 등 법적 분쟁이 우려돼서', '기기 오작동이 우려돼서'],\n",
       "      dtype='object')"
      ]
     },
     "execution_count": 16,
     "metadata": {},
     "output_type": "execute_result"
    }
   ],
   "source": [
    "aed_nu.columns"
   ]
  },
  {
   "cell_type": "code",
   "execution_count": 17,
   "id": "74787f74-6909-4091-a5d1-56683399c44a",
   "metadata": {},
   "outputs": [
    {
     "data": {
      "image/png": "[encoded data removed]",
      "text/plain": [
       "<Figure size 1000x500 with 1 Axes>"
      ]
     },
     "metadata": {},
     "output_type": "display_data"
    }
   ],
   "source": [
    "labels = aed_nu.columns\n",
    "sizes = nu_servey\n",
    "colors = ['yellowgreen','gold','lightskyblue','lightcoral','violet','lightpink']\n",
    "explode = (0.1,0,0,0,0,0)\n",
    "plt.title('AED 미사용이유(복수응답)')\n",
    "plt.pie(sizes, explode = explode, labels = labels, colors=colors,\n",
    "        autopct = '%1.1f%%' , shadow = True, startangle = 90)\n",
    "plt.axis('equal') # 원의 형태를 유지\n",
    "plt.show()"
   ]
  },
  {
   "cell_type": "markdown",
   "id": "1f65aaf1-9c11-4e42-b764-fb19c41d6c73",
   "metadata": {},
   "source": [
    "# AED 교육 필요성"
   ]
  },
  {
   "cell_type": "code",
   "execution_count": 18,
   "id": "4820dd80-f2cb-4c14-97eb-59bb94f1303f",
   "metadata": {},
   "outputs": [
    {
     "data": {
      "text/html": [
       "<div>\n",
       "<style scoped>\n",
       "    .dataframe tbody tr th:only-of-type {\n",
       "        vertical-align: middle;\n",
       "    }\n",
       "\n",
       "    .dataframe tbody tr th {\n",
       "        vertical-align: top;\n",
       "    }\n",
       "\n",
       "    .dataframe thead th {\n",
       "        text-align: right;\n",
       "    }\n",
       "</style>\n",
       "<table border=\"1\" class=\"dataframe\">\n",
       "  <thead>\n",
       "    <tr style=\"text-align: right;\">\n",
       "      <th></th>\n",
       "      <th>매우 필요</th>\n",
       "      <th>필요</th>\n",
       "      <th>보통</th>\n",
       "      <th>불필요</th>\n",
       "    </tr>\n",
       "  </thead>\n",
       "  <tbody>\n",
       "    <tr>\n",
       "      <th>응답수</th>\n",
       "      <td>37.9</td>\n",
       "      <td>53.3</td>\n",
       "      <td>8.5</td>\n",
       "      <td>0.3</td>\n",
       "    </tr>\n",
       "  </tbody>\n",
       "</table>\n",
       "</div>"
      ],
      "text/plain": [
       "     매우 필요    필요   보통  불필요\n",
       "응답수   37.9  53.3  8.5  0.3"
      ]
     },
     "execution_count": 18,
     "metadata": {},
     "output_type": "execute_result"
    }
   ],
   "source": [
    "data = {\n",
    "    \"매우 필요\":[37.9],\n",
    "    \"필요\":[53.3],\n",
    "    \"보통\":[8.5],\n",
    "    \"불필요\":[0.3],\n",
    "}\n",
    "columns = [\"매우 필요\",\"필요\",\"보통\",\"불필요\"]\n",
    "index = [\"응답수\"]\n",
    "\n",
    "aed_study = pd.DataFrame(data, index = index, columns = columns)\n",
    "aed_study"
   ]
  },
  {
   "cell_type": "code",
   "execution_count": 19,
   "id": "05e780d9-22a0-41ab-8ce2-dcfdb8d9b536",
   "metadata": {},
   "outputs": [
    {
     "data": {
      "text/plain": [
       "array([37.9, 53.3,  8.5,  0.3])"
      ]
     },
     "execution_count": 19,
     "metadata": {},
     "output_type": "execute_result"
    }
   ],
   "source": [
    "study_survey = aed_study.values.flatten()\n",
    "study_survey"
   ]
  },
  {
   "cell_type": "code",
   "execution_count": 20,
   "id": "f5ba5b46-842e-42e6-8209-2b8b72bccead",
   "metadata": {},
   "outputs": [
    {
     "data": {
      "text/plain": [
       "Index(['매우 필요', '필요', '보통', '불필요'], dtype='object')"
      ]
     },
     "execution_count": 20,
     "metadata": {},
     "output_type": "execute_result"
    }
   ],
   "source": [
    "aed_study.columns"
   ]
  },
  {
   "cell_type": "code",
   "execution_count": 22,
   "id": "0a003517-e9e8-49b6-a91d-194f031f5b12",
   "metadata": {},
   "outputs": [
    {
     "data": {
      "image/png": "[encoded data removed]",
      "text/plain": [
       "<Figure size 1000x500 with 1 Axes>"
      ]
     },
     "metadata": {
      "needs_background": "light"
     },
     "output_type": "display_data"
    }
   ],
   "source": [
    "labels = aed_study.columns\n",
    "value = study_survey  \n",
    "colors = ['lightskyblue','pink','mediumpurple','lawngreen']\n",
    "\n",
    "plt.title('AED 교육 필요성')\n",
    "plt.barh(labels,value, color = colors)\n",
    "plt.show()"
   ]
  },
  {
   "cell_type": "markdown",
   "id": "cf96892a-f0c6-4cbd-97ab-c83dc6122ffc",
   "metadata": {},
   "source": [
    "# AED 효과적 교육 방법(복수응답)"
   ]
  },
  {
   "cell_type": "code",
   "execution_count": 23,
   "id": "54c86cfe-ef16-46ec-8489-14f093e36283",
   "metadata": {},
   "outputs": [
    {
     "data": {
      "text/html": [
       "<div>\n",
       "<style scoped>\n",
       "    .dataframe tbody tr th:only-of-type {\n",
       "        vertical-align: middle;\n",
       "    }\n",
       "\n",
       "    .dataframe tbody tr th {\n",
       "        vertical-align: top;\n",
       "    }\n",
       "\n",
       "    .dataframe thead th {\n",
       "        text-align: right;\n",
       "    }\n",
       "</style>\n",
       "<table border=\"1\" class=\"dataframe\">\n",
       "  <thead>\n",
       "    <tr style=\"text-align: right;\">\n",
       "      <th></th>\n",
       "      <th>개인별 실습</th>\n",
       "      <th>강사 시범</th>\n",
       "      <th>동영상</th>\n",
       "      <th>이론</th>\n",
       "      <th>시뮬레이션</th>\n",
       "      <th>TV 방송</th>\n",
       "    </tr>\n",
       "  </thead>\n",
       "  <tbody>\n",
       "    <tr>\n",
       "      <th>응답수</th>\n",
       "      <td>97.4</td>\n",
       "      <td>96.9</td>\n",
       "      <td>88.8</td>\n",
       "      <td>51.4</td>\n",
       "      <td>0.3</td>\n",
       "      <td>0.1</td>\n",
       "    </tr>\n",
       "  </tbody>\n",
       "</table>\n",
       "</div>"
      ],
      "text/plain": [
       "     개인별 실습  강사 시범   동영상    이론  시뮬레이션  TV 방송\n",
       "응답수    97.4   96.9  88.8  51.4    0.3    0.1"
      ]
     },
     "execution_count": 23,
     "metadata": {},
     "output_type": "execute_result"
    }
   ],
   "source": [
    " data = {\n",
    "    \"개인별 실습\":[97.4],\n",
    "    \"강사 시범\":[96.9],\n",
    "    \"동영상\":[88.8],\n",
    "    \"이론\":[51.4],\n",
    "    \"시뮬레이션\":[0.3],\n",
    "    \"TV 방송\":[0.1]\n",
    "}\n",
    "columns = [\"개인별 실습\",\"강사 시범\",\"동영상\",\"이론\",\"시뮬레이션\",\"TV 방송\"]\n",
    "index = [\"응답수\"]\n",
    "\n",
    "aed_effective = pd.DataFrame(data, index = index, columns = columns)\n",
    "aed_effective"
   ]
  },
  {
   "cell_type": "code",
   "execution_count": 24,
   "id": "326c11b5-9751-4ad8-8c85-74a332d5ba3a",
   "metadata": {},
   "outputs": [
    {
     "data": {
      "text/plain": [
       "array([97.4, 96.9, 88.8, 51.4,  0.3,  0.1])"
      ]
     },
     "execution_count": 24,
     "metadata": {},
     "output_type": "execute_result"
    }
   ],
   "source": [
    "effective_survey = aed_effective.values.flatten()\n",
    "effective_survey"
   ]
  },
  {
   "cell_type": "code",
   "execution_count": 25,
   "id": "6550b84a-0abd-4159-9553-65e80f0114b1",
   "metadata": {},
   "outputs": [
    {
     "data": {
      "text/plain": [
       "Index(['개인별 실습', '강사 시범', '동영상', '이론', '시뮬레이션', 'TV 방송'], dtype='object')"
      ]
     },
     "execution_count": 25,
     "metadata": {},
     "output_type": "execute_result"
    }
   ],
   "source": [
    "aed_effective.columns"
   ]
  },
  {
   "cell_type": "code",
   "execution_count": 26,
   "id": "2cbdb520-fc6d-49b3-8ca6-abef77bc4efc",
   "metadata": {},
   "outputs": [
    {
     "data": {
      "image/png": "[encoded data removed]",
      "text/plain": [
       "<Figure size 1000x500 with 1 Axes>"
      ]
     },
     "metadata": {
      "needs_background": "light"
     },
     "output_type": "display_data"
    }
   ],
   "source": [
    "labels = aed_effective.columns\n",
    "value = effective_survey  \n",
    "colors = ['lightskyblue','pink','mediumpurple','lawngreen','dodgerblue','moccasin']\n",
    "\n",
    "plt.title('AED 효과적 교육 방법(복수응답)')\n",
    "plt.barh(labels,value, color = colors)\n",
    "plt.show()"
   ]
  },
  {
   "cell_type": "markdown",
   "id": "87da183c-4f38-4692-a6b9-e0b24ad6598a",
   "metadata": {},
   "source": [
    "# AED 교육 반복 교육 적정 주기"
   ]
  },
  {
   "cell_type": "code",
   "execution_count": 27,
   "id": "127dffdb-1e28-407d-bf0c-190c92c6119c",
   "metadata": {},
   "outputs": [
    {
     "data": {
      "text/html": [
       "<div>\n",
       "<style scoped>\n",
       "    .dataframe tbody tr th:only-of-type {\n",
       "        vertical-align: middle;\n",
       "    }\n",
       "\n",
       "    .dataframe tbody tr th {\n",
       "        vertical-align: top;\n",
       "    }\n",
       "\n",
       "    .dataframe thead th {\n",
       "        text-align: right;\n",
       "    }\n",
       "</style>\n",
       "<table border=\"1\" class=\"dataframe\">\n",
       "  <thead>\n",
       "    <tr style=\"text-align: right;\">\n",
       "      <th></th>\n",
       "      <th>5년/1회</th>\n",
       "      <th>4년/1회</th>\n",
       "      <th>3년/1회</th>\n",
       "      <th>2년/1회</th>\n",
       "      <th>1년/1회</th>\n",
       "      <th>6개월/1회</th>\n",
       "    </tr>\n",
       "  </thead>\n",
       "  <tbody>\n",
       "    <tr>\n",
       "      <th>응답수</th>\n",
       "      <td>1.6</td>\n",
       "      <td>0.5</td>\n",
       "      <td>5.4</td>\n",
       "      <td>15.7</td>\n",
       "      <td>45.9</td>\n",
       "      <td>30.8</td>\n",
       "    </tr>\n",
       "  </tbody>\n",
       "</table>\n",
       "</div>"
      ],
      "text/plain": [
       "     5년/1회  4년/1회  3년/1회  2년/1회  1년/1회  6개월/1회\n",
       "응답수    1.6    0.5    5.4   15.7   45.9    30.8"
      ]
     },
     "execution_count": 27,
     "metadata": {},
     "output_type": "execute_result"
    }
   ],
   "source": [
    " data = {\n",
    "    \"6개월/1회\":[30.8],\n",
    "    \"1년/1회\":[45.9],\n",
    "    \"2년/1회\":[15.7],\n",
    "    \"3년/1회\":[5.4],\n",
    "    \"4년/1회\":[0.5],\n",
    "    \"5년/1회\":[1.6]\n",
    "}\n",
    "columns = [\"5년/1회\",\"4년/1회\",\"3년/1회\",\"2년/1회\", \"1년/1회\", \"6개월/1회\"]\n",
    "    #columns = [\"6개월/1회\",\"1년/1회\",\"2년/1회\",\"3년/1회\",\"4년/1회\",\"5년/1회\"]\n",
    "index = [\"응답수\"]\n",
    "\n",
    "aed_year = pd.DataFrame(data, index = index, columns = columns)\n",
    "aed_year"
   ]
  },
  {
   "cell_type": "code",
   "execution_count": 28,
   "id": "06fe35eb-7626-40e0-b0f6-fdcb769aa75e",
   "metadata": {},
   "outputs": [
    {
     "data": {
      "text/plain": [
       "Index(['5년/1회', '4년/1회', '3년/1회', '2년/1회', '1년/1회', '6개월/1회'], dtype='object')"
      ]
     },
     "execution_count": 28,
     "metadata": {},
     "output_type": "execute_result"
    }
   ],
   "source": [
    "aed_year.columns"
   ]
  },
  {
   "cell_type": "code",
   "execution_count": 29,
   "id": "132fb800-687c-4287-8fbb-52441b1866be",
   "metadata": {},
   "outputs": [
    {
     "data": {
      "text/plain": [
       "array([ 1.6,  0.5,  5.4, 15.7, 45.9, 30.8])"
      ]
     },
     "execution_count": 29,
     "metadata": {},
     "output_type": "execute_result"
    }
   ],
   "source": [
    "year_survey = aed_year.values.flatten()\n",
    "year_survey"
   ]
  },
  {
   "cell_type": "code",
   "execution_count": 32,
   "id": "00e4a27a-aedd-4ce3-9c4e-52b06bdf80ec",
   "metadata": {},
   "outputs": [
    {
     "data": {
      "image/png": "[encoded data removed]",
      "text/plain": [
       "<Figure size 1000x500 with 1 Axes>"
      ]
     },
     "metadata": {
      "needs_background": "light"
     },
     "output_type": "display_data"
    }
   ],
   "source": [
    "labels = aed_year.columns\n",
    "value = year_survey  \n",
    "colors = ['lightskyblue','pink','mediumpurple','lawngreen','dodgerblue','moccasin']\n",
    "\n",
    "plt.title('AED 교육 반복 교육 적정 주기')\n",
    "plt.barh(labels,value, color = colors)\n",
    "plt.show()"
   ]
  },
  {
   "cell_type": "code",
   "execution_count": null,
   "id": "9aff2e7d-6345-4187-b634-28d552fbeb47",
   "metadata": {},
   "outputs": [],
   "source": []
  }
 ],
 "metadata": {
  "kernelspec": {
   "display_name": "Python 3 (ipykernel)",
   "language": "python",
   "name": "python3"
  },
  "language_info": {
   "codemirror_mode": {
    "name": "ipython",
    "version": 3
   },
   "file_extension": ".py",
   "mimetype": "text/x-python",
   "name": "python",
   "nbconvert_exporter": "python",
   "pygments_lexer": "ipython3",
   "version": "3.9.13"
  }
 },
 "nbformat": 4,
 "nbformat_minor": 5
}
